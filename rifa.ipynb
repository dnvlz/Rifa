{
 "cells": [
  {
   "cell_type": "code",
   "execution_count": 43,
   "metadata": {},
   "outputs": [],
   "source": [
    "# Lista de la forma \"Nombre Apellido n boletos\"\n",
    "lista = \"\"\"Nombre Apellido 3 boletos\n",
    "Elton John 2 boletos\n",
    "Larro Salía 2 boletos\n",
    "Zamna Aída 4 boletos\n",
    "Elba Dbunny 5 boletos\n",
    "Otro Ejemplo 3 boletos\"\"\"\n",
    "\n",
    "n = int(input(\"Número de ganadores: \"))"
   ]
  },
  {
   "cell_type": "code",
   "execution_count": 44,
   "metadata": {},
   "outputs": [
    {
     "data": {
      "text/plain": [
       "[('Nombre Apellido', '3'),\n",
       " ('Elton John', '2'),\n",
       " ('Larro Salía', '2'),\n",
       " ('Zamna Aída', '4'),\n",
       " ('Elba Dbunny', '5'),\n",
       " ('Otro Ejemplo', '3')]"
      ]
     },
     "execution_count": 44,
     "metadata": {},
     "output_type": "execute_result"
    }
   ],
   "source": [
    "import re\n",
    "import random\n",
    "\n",
    "lista_nombres = lista.split(\"\\n\")\n",
    "accentedCharacters = \"áéíóúýÁÉÍÓÚñ\";\n",
    "\n",
    "# Lista que contiene tupla con nombre y número de\n",
    "nombre_boletos = []\n",
    "for element in lista_nombres:\n",
    "    match = re.match(r\"([A-Za-z\"+accentedCharacters+\"]+\\s[A-Za-z\"+accentedCharacters+\"]+)\\s([0-9]+)\", element, re.I)\n",
    "    items = match.groups()\n",
    "    nombre_boletos.append(items)\n",
    "\n",
    "nombre_boletos"
   ]
  },
  {
   "cell_type": "code",
   "execution_count": 45,
   "metadata": {},
   "outputs": [
    {
     "data": {
      "text/plain": [
       "['Nombre Apellido',\n",
       " 'Nombre Apellido',\n",
       " 'Nombre Apellido',\n",
       " 'Elton John',\n",
       " 'Elton John',\n",
       " 'Larro Salía',\n",
       " 'Larro Salía',\n",
       " 'Zamna Aída',\n",
       " 'Zamna Aída',\n",
       " 'Zamna Aída',\n",
       " 'Zamna Aída',\n",
       " 'Elba Dbunny',\n",
       " 'Elba Dbunny',\n",
       " 'Elba Dbunny',\n",
       " 'Elba Dbunny',\n",
       " 'Elba Dbunny',\n",
       " 'Otro Ejemplo',\n",
       " 'Otro Ejemplo',\n",
       " 'Otro Ejemplo']"
      ]
     },
     "execution_count": 45,
     "metadata": {},
     "output_type": "execute_result"
    }
   ],
   "source": [
    "# Lista con boleto etiquetado (pueden repetirse)\n",
    "boletos = []\n",
    "for element in nombre_boletos:\n",
    "    for times in range(int(element[1])):\n",
    "        boletos.append(element[0])\n",
    "    \n",
    "boletos"
   ]
  },
  {
   "cell_type": "code",
   "execution_count": 46,
   "metadata": {},
   "outputs": [],
   "source": [
    "# Una misma persona puede ganar varios premios?\n",
    "def sorteo(varios_premios=True):\n",
    "    ganadores = []\n",
    "    while len(ganadores)<n:\n",
    "        ganador = random.sample(boletos,1)\n",
    "        if not(ganador in ganadores) or varios_premios:\n",
    "            ganadores.append(ganador)\n",
    "    print(\"Primer lugar:\",ganadores[0][0])\n",
    "    for num in range(1,n):\n",
    "        print(num+1,\"° lugar:\",ganadores[num][0])\n",
    "    return None\n"
   ]
  },
  {
   "cell_type": "code",
   "execution_count": 47,
   "metadata": {},
   "outputs": [
    {
     "name": "stdout",
     "output_type": "stream",
     "text": [
      "Primer lugar: Zamna Aída\n",
      "2 ° lugar: Elton John\n",
      "3 ° lugar: Elba Dbunny\n"
     ]
    }
   ],
   "source": [
    "sorteo(varios_premios=False)"
   ]
  },
  {
   "cell_type": "code",
   "execution_count": 48,
   "metadata": {},
   "outputs": [
    {
     "name": "stdout",
     "output_type": "stream",
     "text": [
      "Primer lugar: Nombre Apellido\n",
      "2 ° lugar: Elba Dbunny\n",
      "3 ° lugar: Elba Dbunny\n"
     ]
    }
   ],
   "source": [
    "sorteo()"
   ]
  },
  {
   "cell_type": "code",
   "execution_count": null,
   "metadata": {},
   "outputs": [],
   "source": []
  }
 ],
 "metadata": {
  "interpreter": {
   "hash": "b227a5a74a4b15a27a68108b04370906cedb0fa979dfe90452a198bd1f9dc829"
  },
  "kernelspec": {
   "display_name": "Python 3.7.5 64-bit",
   "language": "python",
   "name": "python3"
  },
  "language_info": {
   "codemirror_mode": {
    "name": "ipython",
    "version": 3
   },
   "file_extension": ".py",
   "mimetype": "text/x-python",
   "name": "python",
   "nbconvert_exporter": "python",
   "pygments_lexer": "ipython3",
   "version": "3.7.5"
  },
  "orig_nbformat": 4
 },
 "nbformat": 4,
 "nbformat_minor": 2
}
